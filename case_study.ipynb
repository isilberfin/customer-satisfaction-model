{
  "nbformat": 4,
  "nbformat_minor": 0,
  "metadata": {
    "colab": {
      "provenance": [],
      "collapsed_sections": []
    },
    "kernelspec": {
      "name": "python3",
      "display_name": "Python 3"
    },
    "language_info": {
      "name": "python"
    }
  },
  "cells": [
    {
      "cell_type": "code",
      "execution_count": 1,
      "metadata": {
        "id": "pr9chNx1iZg7",
        "colab": {
          "base_uri": "https://localhost:8080/"
        },
        "outputId": "58087bfb-8355-4218-9ad7-a357dc62be4a"
      },
      "outputs": [
        {
          "output_type": "stream",
          "name": "stdout",
          "text": [
            "Mounted at /content/drive\n"
          ]
        }
      ],
      "source": [
        "from google.colab import drive\n",
        "drive.mount('/content/drive',force_remount=True)"
      ]
    },
    {
      "cell_type": "code",
      "source": [
        "import pandas as pd\n",
        "fly_data = pd.read_csv(\"/content/drive/MyDrive/fly-data/Marketing Project-Flight data.csv\")\n",
        "survey_data = pd.read_csv(\"/content/drive/MyDrive/fly-data/Marketing Project-Survey data.csv\")"
      ],
      "metadata": {
        "id": "ZzN4YUdQiliC"
      },
      "execution_count": 65,
      "outputs": []
    },
    {
      "cell_type": "code",
      "source": [
        "survey_data = survey_data.rename(columns = {'CustomerId':'CustomerID'})"
      ],
      "metadata": {
        "id": "2U7UQZVWnmcf"
      },
      "execution_count": 66,
      "outputs": []
    },
    {
      "cell_type": "code",
      "source": [
        "fly_data.isna().sum()"
      ],
      "metadata": {
        "colab": {
          "base_uri": "https://localhost:8080/"
        },
        "id": "DZxrmR0z9fwF",
        "outputId": "7bd3e0ac-cbc2-490b-b639-1ca5db1e9446"
      },
      "execution_count": 67,
      "outputs": [
        {
          "output_type": "execute_result",
          "data": {
            "text/plain": [
              "CustomerID                  0\n",
              "Gender                      0\n",
              "CustomerType             9099\n",
              "Age                         0\n",
              "TypeTravel               9088\n",
              "Class                       0\n",
              "Flight_Distance             0\n",
              "DepartureDelayin_Mins       0\n",
              "ArrivalDelayin_Mins       284\n",
              "dtype: int64"
            ]
          },
          "metadata": {},
          "execution_count": 67
        }
      ]
    },
    {
      "cell_type": "code",
      "source": [
        "survey_data.isna().sum()"
      ],
      "metadata": {
        "colab": {
          "base_uri": "https://localhost:8080/"
        },
        "id": "kjeU8nyW9jSJ",
        "outputId": "91cb293a-1cdf-470e-ce59-edfdf475dbbb"
      },
      "execution_count": 68,
      "outputs": [
        {
          "output_type": "execute_result",
          "data": {
            "text/plain": [
              "CustomerID                              0\n",
              "Satisfaction                            0\n",
              "Seat_comfort                            0\n",
              "Departure.Arrival.time_convenient    8244\n",
              "Food_drink                           8181\n",
              "Gate_location                           0\n",
              "Inflightwifi_service                    0\n",
              "Inflight_entertainment                  0\n",
              "Online_support                          0\n",
              "Ease_of_Onlinebooking                   0\n",
              "Onboard_service                      7179\n",
              "Leg_room_service                        0\n",
              "Baggage_handling                        0\n",
              "Checkin_service                         0\n",
              "Cleanliness                             0\n",
              "Online_boarding                         0\n",
              "dtype: int64"
            ]
          },
          "metadata": {},
          "execution_count": 68
        }
      ]
    },
    {
      "cell_type": "code",
      "source": [
        "merged = pd.merge(fly_data, survey_data, on=\"CustomerID\")"
      ],
      "metadata": {
        "id": "r5110Q2N9lIP"
      },
      "execution_count": 69,
      "outputs": []
    },
    {
      "cell_type": "code",
      "source": [
        "values = {\"CustomerType\": \"Loyal Customer\", \"TypeTravel\": \"Business travel\", \"ArrivalDelayin_Mins\": 0.0, \"Departure.Arrival.time_convenient\": \"good\",\"Food_drink\":\"acceptable\",\"Onboard_service\": \"good\"}\n",
        "merged.fillna(value=values,inplace=True)"
      ],
      "metadata": {
        "id": "cOflVw6j9lwO"
      },
      "execution_count": 70,
      "outputs": []
    },
    {
      "cell_type": "code",
      "source": [
        "########\n",
        "merged['Seat_comfort'].replace(['excellent', 'good','acceptable','need improvement', 'poor', 'extremely poor'],[6,5,4,3,2,1], inplace=True)\n",
        "merged['Food_drink'].replace(['excellent', 'good','acceptable','need improvement', 'poor', 'extremely poor'],[6,5,4,3,2,1], inplace=True)\n",
        "merged['Departure.Arrival.time_convenient'].replace(['excellent', 'good','acceptable','need improvement', 'poor', 'extremely poor'],[6,5,4,3,2,1], inplace=True)\n",
        "merged['Inflightwifi_service'].replace(['excellent', 'good','acceptable','need improvement', 'poor', 'extremely poor'],[6,5,4,3,2,1], inplace=True)\n",
        "merged['Inflight_entertainment'].replace(['excellent', 'good','acceptable','need improvement', 'poor', 'extremely poor'],[6,5,4,3,2,1], inplace=True)\n",
        "merged['Online_support'].replace(['excellent', 'good','acceptable','need improvement', 'poor', 'extremely poor'],[6,5,4,3,2,1], inplace=True)\n",
        "merged['Ease_of_Onlinebooking'].replace(['excellent', 'good','acceptable','need improvement', 'poor', 'extremely poor'],[6,5,4,3,2,1], inplace=True)\n",
        "merged['Onboard_service'].replace(['excellent', 'good','acceptable','need improvement', 'poor', 'extremely poor'],[6,5,4,3,2,1], inplace=True)\n",
        "merged['Leg_room_service'].replace(['excellent', 'good','acceptable','need improvement', 'poor', 'extremely poor'],[6,5,4,3,2,1], inplace=True)\n",
        "merged['Baggage_handling'].replace(['excellent', 'good','acceptable','need improvement', 'poor', 'extremely poor'],[6,5,4,3,2,1], inplace=True)\n",
        "merged['Checkin_service'].replace(['excellent', 'good','acceptable','need improvement', 'poor', 'extremely poor'],[6,5,4,3,2,1], inplace=True)\n",
        "merged['Cleanliness'].replace(['excellent', 'good','acceptable','need improvement', 'poor', 'extremely poor'],[6,5,4,3,2,1], inplace=True)\n",
        "merged['Online_boarding'].replace(['excellent', 'good','acceptable','need improvement', 'poor', 'extremely poor'],[6,5,4,3,2,1], inplace=True)\n",
        "#########\n",
        "merged['Gate_location'].replace(['very convinient','manageable', 'Convinient','need improvement','Inconvinient', 'very inconvinient'],[6,5,4,3,2,1], inplace=True)"
      ],
      "metadata": {
        "id": "IvJ2V_5x9pSC"
      },
      "execution_count": 71,
      "outputs": []
    },
    {
      "cell_type": "code",
      "source": [
        "merged['Gender'].replace(['Female', 'Male'],[1,0], inplace=True)\n",
        "merged['CustomerType'].replace(['Loyal Customer','disloyal Customer'],[1,0], inplace=True)\n",
        "merged['TypeTravel'].replace(['Business travel', 'Personal Travel'],[1,0], inplace=True)\n",
        "merged['Class'].replace(['Business','Eco','Eco Plus'],[2,1,0],inplace=True)\n",
        "merged[\"Satisfaction\"].replace(['satisfied','neutral or dissatisfied'],[1,0],inplace=True)"
      ],
      "metadata": {
        "id": "ahnEvZtp9tn4"
      },
      "execution_count": 72,
      "outputs": []
    },
    {
      "cell_type": "code",
      "source": [
        "merged.head()"
      ],
      "metadata": {
        "colab": {
          "base_uri": "https://localhost:8080/",
          "height": 299
        },
        "id": "tGQ90Pio91Ml",
        "outputId": "2a47390f-7fae-4843-e8ed-6c5617faf3d0"
      },
      "execution_count": 73,
      "outputs": [
        {
          "output_type": "execute_result",
          "data": {
            "text/plain": [
              "   CustomerID  Gender  CustomerType  Age  TypeTravel  Class  Flight_Distance  \\\n",
              "0      149965       1             1   65           0      1              265   \n",
              "1      149966       1             1   15           0      1             2138   \n",
              "2      149967       1             1   60           0      1              623   \n",
              "3      149968       1             1   70           0      1              354   \n",
              "4      149969       0             1   30           1      1             1894   \n",
              "\n",
              "   DepartureDelayin_Mins  ArrivalDelayin_Mins  Satisfaction  ...  \\\n",
              "0                      0                  0.0             1  ...   \n",
              "1                      0                  0.0             1  ...   \n",
              "2                      0                  0.0             1  ...   \n",
              "3                      0                  0.0             1  ...   \n",
              "4                      0                  0.0             1  ...   \n",
              "\n",
              "   Inflightwifi_service  Inflight_entertainment  Online_support  \\\n",
              "0                     3                       5               3   \n",
              "1                     3                       1               3   \n",
              "2                     4                       5               4   \n",
              "3                     5                       4               5   \n",
              "4                     3                       1               3   \n",
              "\n",
              "   Ease_of_Onlinebooking  Onboard_service  Leg_room_service  Baggage_handling  \\\n",
              "0                      4                4                 1                 4   \n",
              "1                      3                5                 4                 5   \n",
              "2                      2                2                 1                 2   \n",
              "3                      3                3                 1                 3   \n",
              "4                      3                6                 5                 6   \n",
              "\n",
              "   Checkin_service  Cleanliness  Online_boarding  \n",
              "0                6            4                3  \n",
              "1                5            5                3  \n",
              "2                5            2                4  \n",
              "3                5            3                6  \n",
              "4                6            5                3  \n",
              "\n",
              "[5 rows x 24 columns]"
            ],
            "text/html": [
              "\n",
              "  <div id=\"df-974e219e-51c1-4f2f-9072-27c4f8dec926\">\n",
              "    <div class=\"colab-df-container\">\n",
              "      <div>\n",
              "<style scoped>\n",
              "    .dataframe tbody tr th:only-of-type {\n",
              "        vertical-align: middle;\n",
              "    }\n",
              "\n",
              "    .dataframe tbody tr th {\n",
              "        vertical-align: top;\n",
              "    }\n",
              "\n",
              "    .dataframe thead th {\n",
              "        text-align: right;\n",
              "    }\n",
              "</style>\n",
              "<table border=\"1\" class=\"dataframe\">\n",
              "  <thead>\n",
              "    <tr style=\"text-align: right;\">\n",
              "      <th></th>\n",
              "      <th>CustomerID</th>\n",
              "      <th>Gender</th>\n",
              "      <th>CustomerType</th>\n",
              "      <th>Age</th>\n",
              "      <th>TypeTravel</th>\n",
              "      <th>Class</th>\n",
              "      <th>Flight_Distance</th>\n",
              "      <th>DepartureDelayin_Mins</th>\n",
              "      <th>ArrivalDelayin_Mins</th>\n",
              "      <th>Satisfaction</th>\n",
              "      <th>...</th>\n",
              "      <th>Inflightwifi_service</th>\n",
              "      <th>Inflight_entertainment</th>\n",
              "      <th>Online_support</th>\n",
              "      <th>Ease_of_Onlinebooking</th>\n",
              "      <th>Onboard_service</th>\n",
              "      <th>Leg_room_service</th>\n",
              "      <th>Baggage_handling</th>\n",
              "      <th>Checkin_service</th>\n",
              "      <th>Cleanliness</th>\n",
              "      <th>Online_boarding</th>\n",
              "    </tr>\n",
              "  </thead>\n",
              "  <tbody>\n",
              "    <tr>\n",
              "      <th>0</th>\n",
              "      <td>149965</td>\n",
              "      <td>1</td>\n",
              "      <td>1</td>\n",
              "      <td>65</td>\n",
              "      <td>0</td>\n",
              "      <td>1</td>\n",
              "      <td>265</td>\n",
              "      <td>0</td>\n",
              "      <td>0.0</td>\n",
              "      <td>1</td>\n",
              "      <td>...</td>\n",
              "      <td>3</td>\n",
              "      <td>5</td>\n",
              "      <td>3</td>\n",
              "      <td>4</td>\n",
              "      <td>4</td>\n",
              "      <td>1</td>\n",
              "      <td>4</td>\n",
              "      <td>6</td>\n",
              "      <td>4</td>\n",
              "      <td>3</td>\n",
              "    </tr>\n",
              "    <tr>\n",
              "      <th>1</th>\n",
              "      <td>149966</td>\n",
              "      <td>1</td>\n",
              "      <td>1</td>\n",
              "      <td>15</td>\n",
              "      <td>0</td>\n",
              "      <td>1</td>\n",
              "      <td>2138</td>\n",
              "      <td>0</td>\n",
              "      <td>0.0</td>\n",
              "      <td>1</td>\n",
              "      <td>...</td>\n",
              "      <td>3</td>\n",
              "      <td>1</td>\n",
              "      <td>3</td>\n",
              "      <td>3</td>\n",
              "      <td>5</td>\n",
              "      <td>4</td>\n",
              "      <td>5</td>\n",
              "      <td>5</td>\n",
              "      <td>5</td>\n",
              "      <td>3</td>\n",
              "    </tr>\n",
              "    <tr>\n",
              "      <th>2</th>\n",
              "      <td>149967</td>\n",
              "      <td>1</td>\n",
              "      <td>1</td>\n",
              "      <td>60</td>\n",
              "      <td>0</td>\n",
              "      <td>1</td>\n",
              "      <td>623</td>\n",
              "      <td>0</td>\n",
              "      <td>0.0</td>\n",
              "      <td>1</td>\n",
              "      <td>...</td>\n",
              "      <td>4</td>\n",
              "      <td>5</td>\n",
              "      <td>4</td>\n",
              "      <td>2</td>\n",
              "      <td>2</td>\n",
              "      <td>1</td>\n",
              "      <td>2</td>\n",
              "      <td>5</td>\n",
              "      <td>2</td>\n",
              "      <td>4</td>\n",
              "    </tr>\n",
              "    <tr>\n",
              "      <th>3</th>\n",
              "      <td>149968</td>\n",
              "      <td>1</td>\n",
              "      <td>1</td>\n",
              "      <td>70</td>\n",
              "      <td>0</td>\n",
              "      <td>1</td>\n",
              "      <td>354</td>\n",
              "      <td>0</td>\n",
              "      <td>0.0</td>\n",
              "      <td>1</td>\n",
              "      <td>...</td>\n",
              "      <td>5</td>\n",
              "      <td>4</td>\n",
              "      <td>5</td>\n",
              "      <td>3</td>\n",
              "      <td>3</td>\n",
              "      <td>1</td>\n",
              "      <td>3</td>\n",
              "      <td>5</td>\n",
              "      <td>3</td>\n",
              "      <td>6</td>\n",
              "    </tr>\n",
              "    <tr>\n",
              "      <th>4</th>\n",
              "      <td>149969</td>\n",
              "      <td>0</td>\n",
              "      <td>1</td>\n",
              "      <td>30</td>\n",
              "      <td>1</td>\n",
              "      <td>1</td>\n",
              "      <td>1894</td>\n",
              "      <td>0</td>\n",
              "      <td>0.0</td>\n",
              "      <td>1</td>\n",
              "      <td>...</td>\n",
              "      <td>3</td>\n",
              "      <td>1</td>\n",
              "      <td>3</td>\n",
              "      <td>3</td>\n",
              "      <td>6</td>\n",
              "      <td>5</td>\n",
              "      <td>6</td>\n",
              "      <td>6</td>\n",
              "      <td>5</td>\n",
              "      <td>3</td>\n",
              "    </tr>\n",
              "  </tbody>\n",
              "</table>\n",
              "<p>5 rows × 24 columns</p>\n",
              "</div>\n",
              "      <button class=\"colab-df-convert\" onclick=\"convertToInteractive('df-974e219e-51c1-4f2f-9072-27c4f8dec926')\"\n",
              "              title=\"Convert this dataframe to an interactive table.\"\n",
              "              style=\"display:none;\">\n",
              "        \n",
              "  <svg xmlns=\"http://www.w3.org/2000/svg\" height=\"24px\"viewBox=\"0 0 24 24\"\n",
              "       width=\"24px\">\n",
              "    <path d=\"M0 0h24v24H0V0z\" fill=\"none\"/>\n",
              "    <path d=\"M18.56 5.44l.94 2.06.94-2.06 2.06-.94-2.06-.94-.94-2.06-.94 2.06-2.06.94zm-11 1L8.5 8.5l.94-2.06 2.06-.94-2.06-.94L8.5 2.5l-.94 2.06-2.06.94zm10 10l.94 2.06.94-2.06 2.06-.94-2.06-.94-.94-2.06-.94 2.06-2.06.94z\"/><path d=\"M17.41 7.96l-1.37-1.37c-.4-.4-.92-.59-1.43-.59-.52 0-1.04.2-1.43.59L10.3 9.45l-7.72 7.72c-.78.78-.78 2.05 0 2.83L4 21.41c.39.39.9.59 1.41.59.51 0 1.02-.2 1.41-.59l7.78-7.78 2.81-2.81c.8-.78.8-2.07 0-2.86zM5.41 20L4 18.59l7.72-7.72 1.47 1.35L5.41 20z\"/>\n",
              "  </svg>\n",
              "      </button>\n",
              "      \n",
              "  <style>\n",
              "    .colab-df-container {\n",
              "      display:flex;\n",
              "      flex-wrap:wrap;\n",
              "      gap: 12px;\n",
              "    }\n",
              "\n",
              "    .colab-df-convert {\n",
              "      background-color: #E8F0FE;\n",
              "      border: none;\n",
              "      border-radius: 50%;\n",
              "      cursor: pointer;\n",
              "      display: none;\n",
              "      fill: #1967D2;\n",
              "      height: 32px;\n",
              "      padding: 0 0 0 0;\n",
              "      width: 32px;\n",
              "    }\n",
              "\n",
              "    .colab-df-convert:hover {\n",
              "      background-color: #E2EBFA;\n",
              "      box-shadow: 0px 1px 2px rgba(60, 64, 67, 0.3), 0px 1px 3px 1px rgba(60, 64, 67, 0.15);\n",
              "      fill: #174EA6;\n",
              "    }\n",
              "\n",
              "    [theme=dark] .colab-df-convert {\n",
              "      background-color: #3B4455;\n",
              "      fill: #D2E3FC;\n",
              "    }\n",
              "\n",
              "    [theme=dark] .colab-df-convert:hover {\n",
              "      background-color: #434B5C;\n",
              "      box-shadow: 0px 1px 3px 1px rgba(0, 0, 0, 0.15);\n",
              "      filter: drop-shadow(0px 1px 2px rgba(0, 0, 0, 0.3));\n",
              "      fill: #FFFFFF;\n",
              "    }\n",
              "  </style>\n",
              "\n",
              "      <script>\n",
              "        const buttonEl =\n",
              "          document.querySelector('#df-974e219e-51c1-4f2f-9072-27c4f8dec926 button.colab-df-convert');\n",
              "        buttonEl.style.display =\n",
              "          google.colab.kernel.accessAllowed ? 'block' : 'none';\n",
              "\n",
              "        async function convertToInteractive(key) {\n",
              "          const element = document.querySelector('#df-974e219e-51c1-4f2f-9072-27c4f8dec926');\n",
              "          const dataTable =\n",
              "            await google.colab.kernel.invokeFunction('convertToInteractive',\n",
              "                                                     [key], {});\n",
              "          if (!dataTable) return;\n",
              "\n",
              "          const docLinkHtml = 'Like what you see? Visit the ' +\n",
              "            '<a target=\"_blank\" href=https://colab.research.google.com/notebooks/data_table.ipynb>data table notebook</a>'\n",
              "            + ' to learn more about interactive tables.';\n",
              "          element.innerHTML = '';\n",
              "          dataTable['output_type'] = 'display_data';\n",
              "          await google.colab.output.renderOutput(dataTable, element);\n",
              "          const docLink = document.createElement('div');\n",
              "          docLink.innerHTML = docLinkHtml;\n",
              "          element.appendChild(docLink);\n",
              "        }\n",
              "      </script>\n",
              "    </div>\n",
              "  </div>\n",
              "  "
            ]
          },
          "metadata": {},
          "execution_count": 73
        }
      ]
    },
    {
      "cell_type": "code",
      "source": [
        "X = merged[['Gender', 'CustomerType', 'Age', 'TypeTravel', 'Class',\n",
        "       'Flight_Distance', 'DepartureDelayin_Mins', 'ArrivalDelayin_Mins','Seat_comfort', 'Departure.Arrival.time_convenient',\n",
        "       'Food_drink', 'Gate_location', 'Inflightwifi_service',\n",
        "       'Inflight_entertainment', 'Online_support', 'Ease_of_Onlinebooking',\n",
        "       'Onboard_service', 'Leg_room_service', 'Baggage_handling',\n",
        "       'Checkin_service', 'Cleanliness', 'Online_boarding']]\n",
        "y = merged[['Satisfaction']]"
      ],
      "metadata": {
        "id": "iJafcimt9xas"
      },
      "execution_count": 74,
      "outputs": []
    },
    {
      "cell_type": "code",
      "source": [
        "from sklearn.model_selection import train_test_split\n",
        "X_train, X_test, y_train, y_test = train_test_split(X,y,random_state=None,test_size=0.20)"
      ],
      "metadata": {
        "id": "gyqkAOLQ98w2"
      },
      "execution_count": 75,
      "outputs": []
    },
    {
      "cell_type": "code",
      "source": [
        "X_train = X_train.drop(['Gender', 'Baggage_handling','Cleanliness','Checkin_service','Departure.Arrival.time_convenient','TypeTravel','Gate_location','Inflightwifi_service','ArrivalDelayin_Mins','DepartureDelayin_Mins'], axis=1)\n",
        "X_test = X_test.drop(['Gender', 'Baggage_handling','Cleanliness','Checkin_service','Departure.Arrival.time_convenient','TypeTravel','Gate_location','Inflightwifi_service','ArrivalDelayin_Mins','DepartureDelayin_Mins'], axis=1)"
      ],
      "metadata": {
        "id": "CAogwjziAZdJ"
      },
      "execution_count": 76,
      "outputs": []
    },
    {
      "cell_type": "code",
      "source": [
        "from sklearn.metrics import accuracy_score, precision_recall_fscore_support\n",
        "def calculate_results(y_true, y_pred):\n",
        "  model_accuracy = accuracy_score(y_true, y_pred) * 100\n",
        "  model_precision, model_recall, model_f1, _ = precision_recall_fscore_support(y_true, y_pred, average=\"weighted\")\n",
        "  model_results = {\"accuracy\": model_accuracy,\n",
        "                  \"precision\": model_precision,\n",
        "                  \"recall\": model_recall,\n",
        "                  \"f1\": model_f1}\n",
        "  return model_results"
      ],
      "metadata": {
        "id": "OP5poHAU-565"
      },
      "execution_count": 77,
      "outputs": []
    },
    {
      "cell_type": "code",
      "source": [
        "#from sklearn.preprocessing import StandardScaler\n",
        "#ss = StandardScaler()\n",
        "#X_train = ss.fit_transform(X_train)\n",
        "#X_test = ss.transform(X_test)"
      ],
      "metadata": {
        "id": "gXTR1VFs9-8X"
      },
      "execution_count": 48,
      "outputs": []
    },
    {
      "cell_type": "code",
      "source": [
        "y_train =y_train[\"Satisfaction\"].ravel()\n",
        "y_test=y_test[\"Satisfaction\"].ravel()"
      ],
      "metadata": {
        "id": "rM_-yC30-Xz6"
      },
      "execution_count": 78,
      "outputs": []
    },
    {
      "cell_type": "code",
      "source": [
        "import lightgbm as lgb\n",
        "clf = lgb.LGBMClassifier()\n",
        "clf.fit(X_train, y_train)"
      ],
      "metadata": {
        "colab": {
          "base_uri": "https://localhost:8080/"
        },
        "id": "ShIirEJR-DMW",
        "outputId": "d8f4bfd0-9650-42a0-ad93-0eaee8d5fd4c"
      },
      "execution_count": 79,
      "outputs": [
        {
          "output_type": "execute_result",
          "data": {
            "text/plain": [
              "LGBMClassifier()"
            ]
          },
          "metadata": {},
          "execution_count": 79
        }
      ]
    },
    {
      "cell_type": "code",
      "source": [
        "y_pred=clf.predict(X_test)\n",
        "calculate_results(y_true=y_test,y_pred=y_pred)"
      ],
      "metadata": {
        "colab": {
          "base_uri": "https://localhost:8080/"
        },
        "id": "3MV-Nnj4-KtT",
        "outputId": "55146f64-0e5e-4ace-b42e-994b4c4c35fc"
      },
      "execution_count": 80,
      "outputs": [
        {
          "output_type": "execute_result",
          "data": {
            "text/plain": [
              "{'accuracy': 92.96084469863617,\n",
              " 'precision': 0.9297418322640507,\n",
              " 'recall': 0.9296084469863617,\n",
              " 'f1': 0.9296445551739732}"
            ]
          },
          "metadata": {},
          "execution_count": 80
        }
      ]
    },
    {
      "cell_type": "code",
      "source": [
        "y_pred[:100]"
      ],
      "metadata": {
        "colab": {
          "base_uri": "https://localhost:8080/"
        },
        "id": "wJ2n9SJh-1Rh",
        "outputId": "5a997c11-03e4-4dea-fe04-66459b3257c5"
      },
      "execution_count": 81,
      "outputs": [
        {
          "output_type": "execute_result",
          "data": {
            "text/plain": [
              "array([0, 1, 1, 1, 1, 1, 1, 1, 1, 0, 0, 0, 1, 1, 1, 1, 1, 0, 1, 1, 0, 1,\n",
              "       1, 0, 1, 0, 0, 1, 1, 0, 0, 1, 0, 1, 0, 1, 0, 0, 1, 1, 0, 0, 0, 1,\n",
              "       0, 0, 1, 1, 1, 0, 0, 0, 0, 0, 0, 0, 1, 1, 0, 0, 1, 0, 1, 1, 0, 1,\n",
              "       0, 0, 0, 1, 1, 0, 0, 0, 1, 0, 0, 1, 0, 1, 0, 1, 1, 0, 1, 0, 0, 0,\n",
              "       1, 1, 0, 1, 1, 1, 1, 0, 0, 0, 0, 1])"
            ]
          },
          "metadata": {},
          "execution_count": 81
        }
      ]
    },
    {
      "cell_type": "code",
      "source": [
        "y_test[:100]"
      ],
      "metadata": {
        "colab": {
          "base_uri": "https://localhost:8080/"
        },
        "id": "mKC4txPe-9P8",
        "outputId": "88884033-03ad-4318-8cdf-ca08cd5dcf59"
      },
      "execution_count": 82,
      "outputs": [
        {
          "output_type": "execute_result",
          "data": {
            "text/plain": [
              "array([0, 1, 1, 1, 1, 1, 1, 1, 1, 0, 0, 0, 1, 1, 1, 1, 1, 0, 1, 1, 0, 1,\n",
              "       1, 0, 1, 0, 0, 1, 1, 0, 1, 1, 0, 1, 0, 1, 0, 0, 1, 1, 0, 0, 0, 0,\n",
              "       0, 0, 1, 1, 1, 0, 0, 0, 0, 0, 0, 0, 1, 1, 0, 0, 1, 0, 1, 1, 0, 1,\n",
              "       0, 0, 0, 1, 1, 1, 0, 0, 1, 0, 0, 1, 0, 1, 0, 1, 1, 0, 1, 0, 0, 0,\n",
              "       0, 1, 1, 1, 1, 1, 1, 0, 1, 0, 0, 1])"
            ]
          },
          "metadata": {},
          "execution_count": 82
        }
      ]
    },
    {
      "cell_type": "code",
      "source": [
        "from sklearn.metrics import confusion_matrix\n",
        "confusion_matrix(y_true=y_test, \n",
        "                 y_pred=y_pred)"
      ],
      "metadata": {
        "colab": {
          "base_uri": "https://localhost:8080/"
        },
        "id": "l5NmxFVI_B2r",
        "outputId": "85e1f5f0-7833-4165-b9b4-568d2bcb98a1"
      },
      "execution_count": 83,
      "outputs": [
        {
          "output_type": "execute_result",
          "data": {
            "text/plain": [
              "array([[7643,  588],\n",
              "       [ 692, 9261]])"
            ]
          },
          "metadata": {},
          "execution_count": 83
        }
      ]
    },
    {
      "cell_type": "code",
      "source": [
        "import numpy as np\n",
        "a = np.array([[1,25,1,256,5,6,5,6,6,6,6,6]])\n",
        "clf.predict(a)"
      ],
      "metadata": {
        "colab": {
          "base_uri": "https://localhost:8080/"
        },
        "id": "x4cuezTf_LYA",
        "outputId": "2fd9756c-aff8-4773-f58b-705bda1fb708"
      },
      "execution_count": 89,
      "outputs": [
        {
          "output_type": "execute_result",
          "data": {
            "text/plain": [
              "array([1])"
            ]
          },
          "metadata": {},
          "execution_count": 89
        }
      ]
    },
    {
      "cell_type": "code",
      "source": [
        "import pickle\n",
        "pickle.dump(clf,open('clf_model.pkl','wb'))"
      ],
      "metadata": {
        "id": "Wq4xWRwQCRXk"
      },
      "execution_count": 90,
      "outputs": []
    }
  ]
}