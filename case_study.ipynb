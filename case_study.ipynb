{
  "cells": [
    {
      "cell_type": "code",
      "execution_count": 2,
      "metadata": {
        "id": "ZzN4YUdQiliC"
      },
      "outputs": [],
      "source": [
        "import pandas as pd\n",
        "fly_data = pd.read_csv(\"Marketing Project-Flight data.csv\")\n",
        "survey_data = pd.read_csv(\"Marketing Project-Survey data.csv\")"
      ]
    },
    {
      "cell_type": "code",
      "execution_count": 3,
      "metadata": {
        "id": "2U7UQZVWnmcf"
      },
      "outputs": [],
      "source": [
        "survey_data = survey_data.rename(columns = {'CustomerId':'CustomerID'})"
      ]
    },
    {
      "cell_type": "code",
      "execution_count": 4,
      "metadata": {
        "colab": {
          "base_uri": "https://localhost:8080/"
        },
        "id": "DZxrmR0z9fwF",
        "outputId": "7bd3e0ac-cbc2-490b-b639-1ca5db1e9446"
      },
      "outputs": [
        {
          "data": {
            "text/plain": [
              "CustomerID                  0\n",
              "Gender                      0\n",
              "CustomerType             9099\n",
              "Age                         0\n",
              "TypeTravel               9088\n",
              "Class                       0\n",
              "Flight_Distance             0\n",
              "DepartureDelayin_Mins       0\n",
              "ArrivalDelayin_Mins       284\n",
              "dtype: int64"
            ]
          },
          "execution_count": 4,
          "metadata": {},
          "output_type": "execute_result"
        }
      ],
      "source": [
        "fly_data.isna().sum()"
      ]
    },
    {
      "cell_type": "code",
      "execution_count": 5,
      "metadata": {
        "colab": {
          "base_uri": "https://localhost:8080/"
        },
        "id": "kjeU8nyW9jSJ",
        "outputId": "91cb293a-1cdf-470e-ce59-edfdf475dbbb"
      },
      "outputs": [
        {
          "data": {
            "text/plain": [
              "CustomerID                              0\n",
              "Satisfaction                            0\n",
              "Seat_comfort                            0\n",
              "Departure.Arrival.time_convenient    8244\n",
              "Food_drink                           8181\n",
              "Gate_location                           0\n",
              "Inflightwifi_service                    0\n",
              "Inflight_entertainment                  0\n",
              "Online_support                          0\n",
              "Ease_of_Onlinebooking                   0\n",
              "Onboard_service                      7179\n",
              "Leg_room_service                        0\n",
              "Baggage_handling                        0\n",
              "Checkin_service                         0\n",
              "Cleanliness                             0\n",
              "Online_boarding                         0\n",
              "dtype: int64"
            ]
          },
          "execution_count": 5,
          "metadata": {},
          "output_type": "execute_result"
        }
      ],
      "source": [
        "survey_data.isna().sum()"
      ]
    },
    {
      "cell_type": "code",
      "execution_count": 6,
      "metadata": {
        "id": "r5110Q2N9lIP"
      },
      "outputs": [],
      "source": [
        "merged = pd.merge(fly_data, survey_data, on=\"CustomerID\")"
      ]
    },
    {
      "cell_type": "code",
      "execution_count": 7,
      "metadata": {
        "id": "cOflVw6j9lwO"
      },
      "outputs": [],
      "source": [
        "values = {\"CustomerType\": \"Loyal Customer\", \"TypeTravel\": \"Business travel\", \"ArrivalDelayin_Mins\": 0.0, \"Departure.Arrival.time_convenient\": \"good\",\"Food_drink\":\"acceptable\",\"Onboard_service\": \"good\"}\n",
        "merged.fillna(value=values,inplace=True)"
      ]
    },
    {
      "cell_type": "code",
      "execution_count": 28,
      "metadata": {},
      "outputs": [
        {
          "data": {
            "text/html": [
              "<div>\n",
              "<style scoped>\n",
              "    .dataframe tbody tr th:only-of-type {\n",
              "        vertical-align: middle;\n",
              "    }\n",
              "\n",
              "    .dataframe tbody tr th {\n",
              "        vertical-align: top;\n",
              "    }\n",
              "\n",
              "    .dataframe thead th {\n",
              "        text-align: right;\n",
              "    }\n",
              "</style>\n",
              "<table border=\"1\" class=\"dataframe\">\n",
              "  <thead>\n",
              "    <tr style=\"text-align: right;\">\n",
              "      <th></th>\n",
              "      <th>CustomerID</th>\n",
              "      <th>Gender</th>\n",
              "      <th>CustomerType</th>\n",
              "      <th>Age</th>\n",
              "      <th>TypeTravel</th>\n",
              "      <th>Class</th>\n",
              "      <th>Flight_Distance</th>\n",
              "      <th>DepartureDelayin_Mins</th>\n",
              "      <th>ArrivalDelayin_Mins</th>\n",
              "      <th>Satisfaction</th>\n",
              "      <th>...</th>\n",
              "      <th>Inflightwifi_service</th>\n",
              "      <th>Inflight_entertainment</th>\n",
              "      <th>Online_support</th>\n",
              "      <th>Ease_of_Onlinebooking</th>\n",
              "      <th>Onboard_service</th>\n",
              "      <th>Leg_room_service</th>\n",
              "      <th>Baggage_handling</th>\n",
              "      <th>Checkin_service</th>\n",
              "      <th>Cleanliness</th>\n",
              "      <th>Online_boarding</th>\n",
              "    </tr>\n",
              "  </thead>\n",
              "  <tbody>\n",
              "    <tr>\n",
              "      <th>0</th>\n",
              "      <td>149965</td>\n",
              "      <td>1</td>\n",
              "      <td>1</td>\n",
              "      <td>65</td>\n",
              "      <td>0</td>\n",
              "      <td>1</td>\n",
              "      <td>265</td>\n",
              "      <td>0</td>\n",
              "      <td>0.0</td>\n",
              "      <td>1</td>\n",
              "      <td>...</td>\n",
              "      <td>3</td>\n",
              "      <td>4</td>\n",
              "      <td>3</td>\n",
              "      <td>3</td>\n",
              "      <td>3</td>\n",
              "      <td>0</td>\n",
              "      <td>3</td>\n",
              "      <td>5</td>\n",
              "      <td>3</td>\n",
              "      <td>3</td>\n",
              "    </tr>\n",
              "    <tr>\n",
              "      <th>1</th>\n",
              "      <td>149966</td>\n",
              "      <td>1</td>\n",
              "      <td>1</td>\n",
              "      <td>15</td>\n",
              "      <td>0</td>\n",
              "      <td>1</td>\n",
              "      <td>2138</td>\n",
              "      <td>0</td>\n",
              "      <td>0.0</td>\n",
              "      <td>1</td>\n",
              "      <td>...</td>\n",
              "      <td>3</td>\n",
              "      <td>0</td>\n",
              "      <td>3</td>\n",
              "      <td>3</td>\n",
              "      <td>4</td>\n",
              "      <td>3</td>\n",
              "      <td>4</td>\n",
              "      <td>4</td>\n",
              "      <td>4</td>\n",
              "      <td>3</td>\n",
              "    </tr>\n",
              "    <tr>\n",
              "      <th>2</th>\n",
              "      <td>149967</td>\n",
              "      <td>1</td>\n",
              "      <td>1</td>\n",
              "      <td>60</td>\n",
              "      <td>0</td>\n",
              "      <td>1</td>\n",
              "      <td>623</td>\n",
              "      <td>0</td>\n",
              "      <td>0.0</td>\n",
              "      <td>1</td>\n",
              "      <td>...</td>\n",
              "      <td>3</td>\n",
              "      <td>4</td>\n",
              "      <td>3</td>\n",
              "      <td>1</td>\n",
              "      <td>1</td>\n",
              "      <td>0</td>\n",
              "      <td>1</td>\n",
              "      <td>4</td>\n",
              "      <td>1</td>\n",
              "      <td>3</td>\n",
              "    </tr>\n",
              "    <tr>\n",
              "      <th>3</th>\n",
              "      <td>149968</td>\n",
              "      <td>1</td>\n",
              "      <td>1</td>\n",
              "      <td>70</td>\n",
              "      <td>0</td>\n",
              "      <td>1</td>\n",
              "      <td>354</td>\n",
              "      <td>0</td>\n",
              "      <td>0.0</td>\n",
              "      <td>1</td>\n",
              "      <td>...</td>\n",
              "      <td>4</td>\n",
              "      <td>3</td>\n",
              "      <td>4</td>\n",
              "      <td>3</td>\n",
              "      <td>3</td>\n",
              "      <td>0</td>\n",
              "      <td>3</td>\n",
              "      <td>4</td>\n",
              "      <td>3</td>\n",
              "      <td>5</td>\n",
              "    </tr>\n",
              "    <tr>\n",
              "      <th>4</th>\n",
              "      <td>149969</td>\n",
              "      <td>0</td>\n",
              "      <td>1</td>\n",
              "      <td>30</td>\n",
              "      <td>1</td>\n",
              "      <td>1</td>\n",
              "      <td>1894</td>\n",
              "      <td>0</td>\n",
              "      <td>0.0</td>\n",
              "      <td>1</td>\n",
              "      <td>...</td>\n",
              "      <td>3</td>\n",
              "      <td>0</td>\n",
              "      <td>3</td>\n",
              "      <td>3</td>\n",
              "      <td>5</td>\n",
              "      <td>4</td>\n",
              "      <td>5</td>\n",
              "      <td>5</td>\n",
              "      <td>4</td>\n",
              "      <td>3</td>\n",
              "    </tr>\n",
              "  </tbody>\n",
              "</table>\n",
              "<p>5 rows × 24 columns</p>\n",
              "</div>"
            ],
            "text/plain": [
              "   CustomerID  Gender  CustomerType  Age  TypeTravel  Class  Flight_Distance  \\\n",
              "0      149965       1             1   65           0      1              265   \n",
              "1      149966       1             1   15           0      1             2138   \n",
              "2      149967       1             1   60           0      1              623   \n",
              "3      149968       1             1   70           0      1              354   \n",
              "4      149969       0             1   30           1      1             1894   \n",
              "\n",
              "   DepartureDelayin_Mins  ArrivalDelayin_Mins  Satisfaction  ...  \\\n",
              "0                      0                  0.0             1  ...   \n",
              "1                      0                  0.0             1  ...   \n",
              "2                      0                  0.0             1  ...   \n",
              "3                      0                  0.0             1  ...   \n",
              "4                      0                  0.0             1  ...   \n",
              "\n",
              "   Inflightwifi_service  Inflight_entertainment  Online_support  \\\n",
              "0                     3                       4               3   \n",
              "1                     3                       0               3   \n",
              "2                     3                       4               3   \n",
              "3                     4                       3               4   \n",
              "4                     3                       0               3   \n",
              "\n",
              "   Ease_of_Onlinebooking  Onboard_service  Leg_room_service  Baggage_handling  \\\n",
              "0                      3                3                 0                 3   \n",
              "1                      3                4                 3                 4   \n",
              "2                      1                1                 0                 1   \n",
              "3                      3                3                 0                 3   \n",
              "4                      3                5                 4                 5   \n",
              "\n",
              "   Checkin_service  Cleanliness  Online_boarding  \n",
              "0                5            3                3  \n",
              "1                4            4                3  \n",
              "2                4            1                3  \n",
              "3                4            3                5  \n",
              "4                5            4                3  \n",
              "\n",
              "[5 rows x 24 columns]"
            ]
          },
          "execution_count": 28,
          "metadata": {},
          "output_type": "execute_result"
        }
      ],
      "source": [
        "merged.head()"
      ]
    },
    {
      "cell_type": "code",
      "execution_count": 33,
      "metadata": {},
      "outputs": [
        {
          "data": {
            "text/html": [
              "<div>\n",
              "<style scoped>\n",
              "    .dataframe tbody tr th:only-of-type {\n",
              "        vertical-align: middle;\n",
              "    }\n",
              "\n",
              "    .dataframe tbody tr th {\n",
              "        vertical-align: top;\n",
              "    }\n",
              "\n",
              "    .dataframe thead th {\n",
              "        text-align: right;\n",
              "    }\n",
              "</style>\n",
              "<table border=\"1\" class=\"dataframe\">\n",
              "  <thead>\n",
              "    <tr style=\"text-align: right;\">\n",
              "      <th></th>\n",
              "      <th>CustomerID</th>\n",
              "      <th>Gender</th>\n",
              "      <th>CustomerType</th>\n",
              "      <th>Age</th>\n",
              "      <th>TypeTravel</th>\n",
              "      <th>Class</th>\n",
              "      <th>Flight_Distance</th>\n",
              "      <th>DepartureDelayin_Mins</th>\n",
              "      <th>ArrivalDelayin_Mins</th>\n",
              "      <th>Satisfaction</th>\n",
              "      <th>...</th>\n",
              "      <th>Inflightwifi_service</th>\n",
              "      <th>Inflight_entertainment</th>\n",
              "      <th>Online_support</th>\n",
              "      <th>Ease_of_Onlinebooking</th>\n",
              "      <th>Onboard_service</th>\n",
              "      <th>Leg_room_service</th>\n",
              "      <th>Baggage_handling</th>\n",
              "      <th>Checkin_service</th>\n",
              "      <th>Cleanliness</th>\n",
              "      <th>Online_boarding</th>\n",
              "    </tr>\n",
              "  </thead>\n",
              "  <tbody>\n",
              "    <tr>\n",
              "      <th>0</th>\n",
              "      <td>149965</td>\n",
              "      <td>1</td>\n",
              "      <td>1</td>\n",
              "      <td>65</td>\n",
              "      <td>0</td>\n",
              "      <td>1</td>\n",
              "      <td>265</td>\n",
              "      <td>0</td>\n",
              "      <td>0.0</td>\n",
              "      <td>1</td>\n",
              "      <td>...</td>\n",
              "      <td>3</td>\n",
              "      <td>4</td>\n",
              "      <td>3</td>\n",
              "      <td>3</td>\n",
              "      <td>3</td>\n",
              "      <td>0</td>\n",
              "      <td>3</td>\n",
              "      <td>5</td>\n",
              "      <td>3</td>\n",
              "      <td>3</td>\n",
              "    </tr>\n",
              "    <tr>\n",
              "      <th>1</th>\n",
              "      <td>149966</td>\n",
              "      <td>1</td>\n",
              "      <td>1</td>\n",
              "      <td>15</td>\n",
              "      <td>0</td>\n",
              "      <td>1</td>\n",
              "      <td>2138</td>\n",
              "      <td>0</td>\n",
              "      <td>0.0</td>\n",
              "      <td>1</td>\n",
              "      <td>...</td>\n",
              "      <td>3</td>\n",
              "      <td>0</td>\n",
              "      <td>3</td>\n",
              "      <td>3</td>\n",
              "      <td>4</td>\n",
              "      <td>3</td>\n",
              "      <td>4</td>\n",
              "      <td>4</td>\n",
              "      <td>4</td>\n",
              "      <td>3</td>\n",
              "    </tr>\n",
              "    <tr>\n",
              "      <th>2</th>\n",
              "      <td>149967</td>\n",
              "      <td>1</td>\n",
              "      <td>1</td>\n",
              "      <td>60</td>\n",
              "      <td>0</td>\n",
              "      <td>1</td>\n",
              "      <td>623</td>\n",
              "      <td>0</td>\n",
              "      <td>0.0</td>\n",
              "      <td>1</td>\n",
              "      <td>...</td>\n",
              "      <td>3</td>\n",
              "      <td>4</td>\n",
              "      <td>3</td>\n",
              "      <td>1</td>\n",
              "      <td>1</td>\n",
              "      <td>0</td>\n",
              "      <td>1</td>\n",
              "      <td>4</td>\n",
              "      <td>1</td>\n",
              "      <td>3</td>\n",
              "    </tr>\n",
              "  </tbody>\n",
              "</table>\n",
              "<p>3 rows × 24 columns</p>\n",
              "</div>"
            ],
            "text/plain": [
              "   CustomerID  Gender  CustomerType  Age  TypeTravel  Class  Flight_Distance  \\\n",
              "0      149965       1             1   65           0      1              265   \n",
              "1      149966       1             1   15           0      1             2138   \n",
              "2      149967       1             1   60           0      1              623   \n",
              "\n",
              "   DepartureDelayin_Mins  ArrivalDelayin_Mins  Satisfaction  ...  \\\n",
              "0                      0                  0.0             1  ...   \n",
              "1                      0                  0.0             1  ...   \n",
              "2                      0                  0.0             1  ...   \n",
              "\n",
              "   Inflightwifi_service  Inflight_entertainment  Online_support  \\\n",
              "0                     3                       4               3   \n",
              "1                     3                       0               3   \n",
              "2                     3                       4               3   \n",
              "\n",
              "   Ease_of_Onlinebooking  Onboard_service  Leg_room_service  Baggage_handling  \\\n",
              "0                      3                3                 0                 3   \n",
              "1                      3                4                 3                 4   \n",
              "2                      1                1                 0                 1   \n",
              "\n",
              "   Checkin_service  Cleanliness  Online_boarding  \n",
              "0                5            3                3  \n",
              "1                4            4                3  \n",
              "2                4            1                3  \n",
              "\n",
              "[3 rows x 24 columns]"
            ]
          },
          "execution_count": 33,
          "metadata": {},
          "output_type": "execute_result"
        }
      ],
      "source": [
        "merged.loc[merged['Satisfaction'] == 1].head(3)"
      ]
    },
    {
      "cell_type": "code",
      "execution_count": 31,
      "metadata": {},
      "outputs": [
        {
          "data": {
            "text/plain": [
              "1981.6294422385251"
            ]
          },
          "execution_count": 31,
          "metadata": {},
          "output_type": "execute_result"
        }
      ],
      "source": [
        "merged[\"Flight_Distance\"].mean()"
      ]
    },
    {
      "cell_type": "code",
      "execution_count": 9,
      "metadata": {
        "id": "IvJ2V_5x9pSC"
      },
      "outputs": [],
      "source": [
        "########\n",
        "merged['Seat_comfort'].replace(['excellent', 'good','acceptable','need improvement', 'poor', 'extremely poor'],[5,4,3,3,1,0], inplace=True)\n",
        "merged['Food_drink'].replace(['excellent', 'good','acceptable','need improvement', 'poor', 'extremely poor'],[5,4,3,3,1,0], inplace=True)\n",
        "merged['Departure.Arrival.time_convenient'].replace(['excellent', 'good','acceptable','need improvement', 'poor', 'extremely poor'],[5,4,3,3,1,0], inplace=True)\n",
        "merged['Inflightwifi_service'].replace(['excellent', 'good','acceptable','need improvement', 'poor', 'extremely poor'],[5,4,3,3,1,0], inplace=True)\n",
        "merged['Inflight_entertainment'].replace(['excellent', 'good','acceptable','need improvement', 'poor', 'extremely poor'],[5,4,3,3,1,0], inplace=True)\n",
        "merged['Online_support'].replace(['excellent', 'good','acceptable','need improvement', 'poor', 'extremely poor'],[5,4,3,3,1,0], inplace=True)\n",
        "merged['Ease_of_Onlinebooking'].replace(['excellent', 'good','acceptable','need improvement', 'poor', 'extremely poor'],[5,4,3,3,1,0], inplace=True)\n",
        "merged['Onboard_service'].replace(['excellent', 'good','acceptable','need improvement', 'poor', 'extremely poor'],[5,4,3,3,1,0], inplace=True)\n",
        "merged['Leg_room_service'].replace(['excellent', 'good','acceptable','need improvement', 'poor', 'extremely poor'],[5,4,3,3,1,0], inplace=True)\n",
        "merged['Baggage_handling'].replace(['excellent', 'good','acceptable','need improvement', 'poor', 'extremely poor'],[5,4,3,3,1,0], inplace=True)\n",
        "merged['Checkin_service'].replace(['excellent', 'good','acceptable','need improvement', 'poor', 'extremely poor'],[5,4,3,3,1,0], inplace=True)\n",
        "merged['Cleanliness'].replace(['excellent', 'good','acceptable','need improvement', 'poor', 'extremely poor'],[5,4,3,3,1,0], inplace=True)\n",
        "merged['Online_boarding'].replace(['excellent', 'good','acceptable','need improvement', 'poor', 'extremely poor'],[5,4,3,3,1,0], inplace=True)\n",
        "#########\n",
        "merged['Gate_location'].replace(['very convinient','manageable', 'Convinient','need improvement','Inconvinient', 'very inconvinient'],[6,5,4,3,2,1], inplace=True)"
      ]
    },
    {
      "cell_type": "code",
      "execution_count": 10,
      "metadata": {
        "id": "ahnEvZtp9tn4"
      },
      "outputs": [],
      "source": [
        "merged['Gender'].replace(['Female', 'Male'],[1,0], inplace=True)\n",
        "merged['CustomerType'].replace(['Loyal Customer','disloyal Customer'],[1,0], inplace=True)\n",
        "merged['TypeTravel'].replace(['Business travel', 'Personal Travel'],[1,0], inplace=True)\n",
        "merged['Class'].replace(['Business','Eco','Eco Plus'],[2,1,0],inplace=True)\n",
        "merged[\"Satisfaction\"].replace(['satisfied','neutral or dissatisfied'],[1,0],inplace=True)"
      ]
    },
    {
      "cell_type": "code",
      "execution_count": 11,
      "metadata": {
        "colab": {
          "base_uri": "https://localhost:8080/",
          "height": 299
        },
        "id": "tGQ90Pio91Ml",
        "outputId": "2a47390f-7fae-4843-e8ed-6c5617faf3d0"
      },
      "outputs": [
        {
          "data": {
            "text/html": [
              "<div>\n",
              "<style scoped>\n",
              "    .dataframe tbody tr th:only-of-type {\n",
              "        vertical-align: middle;\n",
              "    }\n",
              "\n",
              "    .dataframe tbody tr th {\n",
              "        vertical-align: top;\n",
              "    }\n",
              "\n",
              "    .dataframe thead th {\n",
              "        text-align: right;\n",
              "    }\n",
              "</style>\n",
              "<table border=\"1\" class=\"dataframe\">\n",
              "  <thead>\n",
              "    <tr style=\"text-align: right;\">\n",
              "      <th></th>\n",
              "      <th>CustomerID</th>\n",
              "      <th>Gender</th>\n",
              "      <th>CustomerType</th>\n",
              "      <th>Age</th>\n",
              "      <th>TypeTravel</th>\n",
              "      <th>Class</th>\n",
              "      <th>Flight_Distance</th>\n",
              "      <th>DepartureDelayin_Mins</th>\n",
              "      <th>ArrivalDelayin_Mins</th>\n",
              "      <th>Satisfaction</th>\n",
              "      <th>...</th>\n",
              "      <th>Inflightwifi_service</th>\n",
              "      <th>Inflight_entertainment</th>\n",
              "      <th>Online_support</th>\n",
              "      <th>Ease_of_Onlinebooking</th>\n",
              "      <th>Onboard_service</th>\n",
              "      <th>Leg_room_service</th>\n",
              "      <th>Baggage_handling</th>\n",
              "      <th>Checkin_service</th>\n",
              "      <th>Cleanliness</th>\n",
              "      <th>Online_boarding</th>\n",
              "    </tr>\n",
              "  </thead>\n",
              "  <tbody>\n",
              "    <tr>\n",
              "      <th>0</th>\n",
              "      <td>149965</td>\n",
              "      <td>1</td>\n",
              "      <td>1</td>\n",
              "      <td>65</td>\n",
              "      <td>0</td>\n",
              "      <td>1</td>\n",
              "      <td>265</td>\n",
              "      <td>0</td>\n",
              "      <td>0.0</td>\n",
              "      <td>1</td>\n",
              "      <td>...</td>\n",
              "      <td>3</td>\n",
              "      <td>4</td>\n",
              "      <td>3</td>\n",
              "      <td>3</td>\n",
              "      <td>3</td>\n",
              "      <td>0</td>\n",
              "      <td>3</td>\n",
              "      <td>5</td>\n",
              "      <td>3</td>\n",
              "      <td>3</td>\n",
              "    </tr>\n",
              "    <tr>\n",
              "      <th>1</th>\n",
              "      <td>149966</td>\n",
              "      <td>1</td>\n",
              "      <td>1</td>\n",
              "      <td>15</td>\n",
              "      <td>0</td>\n",
              "      <td>1</td>\n",
              "      <td>2138</td>\n",
              "      <td>0</td>\n",
              "      <td>0.0</td>\n",
              "      <td>1</td>\n",
              "      <td>...</td>\n",
              "      <td>3</td>\n",
              "      <td>0</td>\n",
              "      <td>3</td>\n",
              "      <td>3</td>\n",
              "      <td>4</td>\n",
              "      <td>3</td>\n",
              "      <td>4</td>\n",
              "      <td>4</td>\n",
              "      <td>4</td>\n",
              "      <td>3</td>\n",
              "    </tr>\n",
              "    <tr>\n",
              "      <th>2</th>\n",
              "      <td>149967</td>\n",
              "      <td>1</td>\n",
              "      <td>1</td>\n",
              "      <td>60</td>\n",
              "      <td>0</td>\n",
              "      <td>1</td>\n",
              "      <td>623</td>\n",
              "      <td>0</td>\n",
              "      <td>0.0</td>\n",
              "      <td>1</td>\n",
              "      <td>...</td>\n",
              "      <td>3</td>\n",
              "      <td>4</td>\n",
              "      <td>3</td>\n",
              "      <td>1</td>\n",
              "      <td>1</td>\n",
              "      <td>0</td>\n",
              "      <td>1</td>\n",
              "      <td>4</td>\n",
              "      <td>1</td>\n",
              "      <td>3</td>\n",
              "    </tr>\n",
              "    <tr>\n",
              "      <th>3</th>\n",
              "      <td>149968</td>\n",
              "      <td>1</td>\n",
              "      <td>1</td>\n",
              "      <td>70</td>\n",
              "      <td>0</td>\n",
              "      <td>1</td>\n",
              "      <td>354</td>\n",
              "      <td>0</td>\n",
              "      <td>0.0</td>\n",
              "      <td>1</td>\n",
              "      <td>...</td>\n",
              "      <td>4</td>\n",
              "      <td>3</td>\n",
              "      <td>4</td>\n",
              "      <td>3</td>\n",
              "      <td>3</td>\n",
              "      <td>0</td>\n",
              "      <td>3</td>\n",
              "      <td>4</td>\n",
              "      <td>3</td>\n",
              "      <td>5</td>\n",
              "    </tr>\n",
              "    <tr>\n",
              "      <th>4</th>\n",
              "      <td>149969</td>\n",
              "      <td>0</td>\n",
              "      <td>1</td>\n",
              "      <td>30</td>\n",
              "      <td>1</td>\n",
              "      <td>1</td>\n",
              "      <td>1894</td>\n",
              "      <td>0</td>\n",
              "      <td>0.0</td>\n",
              "      <td>1</td>\n",
              "      <td>...</td>\n",
              "      <td>3</td>\n",
              "      <td>0</td>\n",
              "      <td>3</td>\n",
              "      <td>3</td>\n",
              "      <td>5</td>\n",
              "      <td>4</td>\n",
              "      <td>5</td>\n",
              "      <td>5</td>\n",
              "      <td>4</td>\n",
              "      <td>3</td>\n",
              "    </tr>\n",
              "  </tbody>\n",
              "</table>\n",
              "<p>5 rows × 24 columns</p>\n",
              "</div>"
            ],
            "text/plain": [
              "   CustomerID  Gender  CustomerType  Age  TypeTravel  Class  Flight_Distance  \\\n",
              "0      149965       1             1   65           0      1              265   \n",
              "1      149966       1             1   15           0      1             2138   \n",
              "2      149967       1             1   60           0      1              623   \n",
              "3      149968       1             1   70           0      1              354   \n",
              "4      149969       0             1   30           1      1             1894   \n",
              "\n",
              "   DepartureDelayin_Mins  ArrivalDelayin_Mins  Satisfaction  ...  \\\n",
              "0                      0                  0.0             1  ...   \n",
              "1                      0                  0.0             1  ...   \n",
              "2                      0                  0.0             1  ...   \n",
              "3                      0                  0.0             1  ...   \n",
              "4                      0                  0.0             1  ...   \n",
              "\n",
              "   Inflightwifi_service  Inflight_entertainment  Online_support  \\\n",
              "0                     3                       4               3   \n",
              "1                     3                       0               3   \n",
              "2                     3                       4               3   \n",
              "3                     4                       3               4   \n",
              "4                     3                       0               3   \n",
              "\n",
              "   Ease_of_Onlinebooking  Onboard_service  Leg_room_service  Baggage_handling  \\\n",
              "0                      3                3                 0                 3   \n",
              "1                      3                4                 3                 4   \n",
              "2                      1                1                 0                 1   \n",
              "3                      3                3                 0                 3   \n",
              "4                      3                5                 4                 5   \n",
              "\n",
              "   Checkin_service  Cleanliness  Online_boarding  \n",
              "0                5            3                3  \n",
              "1                4            4                3  \n",
              "2                4            1                3  \n",
              "3                4            3                5  \n",
              "4                5            4                3  \n",
              "\n",
              "[5 rows x 24 columns]"
            ]
          },
          "execution_count": 11,
          "metadata": {},
          "output_type": "execute_result"
        }
      ],
      "source": [
        "merged.head()"
      ]
    },
    {
      "cell_type": "code",
      "execution_count": 12,
      "metadata": {
        "id": "iJafcimt9xas"
      },
      "outputs": [],
      "source": [
        "X = merged[['Gender', 'CustomerType', 'Age', 'TypeTravel', 'Class',\n",
        "       'Flight_Distance', 'DepartureDelayin_Mins', 'ArrivalDelayin_Mins','Seat_comfort', 'Departure.Arrival.time_convenient',\n",
        "       'Food_drink', 'Gate_location', 'Inflightwifi_service',\n",
        "       'Inflight_entertainment', 'Online_support', 'Ease_of_Onlinebooking',\n",
        "       'Onboard_service', 'Leg_room_service', 'Baggage_handling',\n",
        "       'Checkin_service', 'Cleanliness', 'Online_boarding']]\n",
        "y = merged[['Satisfaction']]"
      ]
    },
    {
      "cell_type": "code",
      "execution_count": 13,
      "metadata": {
        "id": "gyqkAOLQ98w2"
      },
      "outputs": [],
      "source": [
        "import sklearn\n",
        "from sklearn.model_selection import train_test_split\n",
        "X_train, X_test, y_train, y_test = train_test_split(X,y,random_state=None,test_size=0.20)"
      ]
    },
    {
      "cell_type": "code",
      "execution_count": 14,
      "metadata": {
        "id": "CAogwjziAZdJ"
      },
      "outputs": [],
      "source": [
        "X_train = X_train.drop(['Gender', 'Baggage_handling','Cleanliness','Checkin_service','Departure.Arrival.time_convenient','TypeTravel','Gate_location','Inflightwifi_service','ArrivalDelayin_Mins','DepartureDelayin_Mins'], axis=1)\n",
        "X_test = X_test.drop(['Gender', 'Baggage_handling','Cleanliness','Checkin_service','Departure.Arrival.time_convenient','TypeTravel','Gate_location','Inflightwifi_service','ArrivalDelayin_Mins','DepartureDelayin_Mins'], axis=1)"
      ]
    },
    {
      "cell_type": "code",
      "execution_count": 15,
      "metadata": {
        "id": "OP5poHAU-565"
      },
      "outputs": [],
      "source": [
        "from sklearn.metrics import accuracy_score, precision_recall_fscore_support\n",
        "def calculate_results(y_true, y_pred):\n",
        "  model_accuracy = accuracy_score(y_true, y_pred) * 100\n",
        "  model_precision, model_recall, model_f1, _ = precision_recall_fscore_support(y_true, y_pred, average=\"weighted\")\n",
        "  model_results = {\"accuracy\": model_accuracy,\n",
        "                  \"precision\": model_precision,\n",
        "                  \"recall\": model_recall,\n",
        "                  \"f1\": model_f1}\n",
        "  return model_results"
      ]
    },
    {
      "cell_type": "code",
      "execution_count": 16,
      "metadata": {
        "id": "rM_-yC30-Xz6"
      },
      "outputs": [],
      "source": [
        "y_train =y_train[\"Satisfaction\"].ravel()\n",
        "y_test=y_test[\"Satisfaction\"].ravel()"
      ]
    },
    {
      "cell_type": "code",
      "execution_count": 17,
      "metadata": {
        "colab": {
          "base_uri": "https://localhost:8080/"
        },
        "id": "ShIirEJR-DMW",
        "outputId": "d8f4bfd0-9650-42a0-ad93-0eaee8d5fd4c"
      },
      "outputs": [
        {
          "data": {
            "text/html": [
              "<style>#sk-container-id-1 {color: black;background-color: white;}#sk-container-id-1 pre{padding: 0;}#sk-container-id-1 div.sk-toggleable {background-color: white;}#sk-container-id-1 label.sk-toggleable__label {cursor: pointer;display: block;width: 100%;margin-bottom: 0;padding: 0.3em;box-sizing: border-box;text-align: center;}#sk-container-id-1 label.sk-toggleable__label-arrow:before {content: \"▸\";float: left;margin-right: 0.25em;color: #696969;}#sk-container-id-1 label.sk-toggleable__label-arrow:hover:before {color: black;}#sk-container-id-1 div.sk-estimator:hover label.sk-toggleable__label-arrow:before {color: black;}#sk-container-id-1 div.sk-toggleable__content {max-height: 0;max-width: 0;overflow: hidden;text-align: left;background-color: #f0f8ff;}#sk-container-id-1 div.sk-toggleable__content pre {margin: 0.2em;color: black;border-radius: 0.25em;background-color: #f0f8ff;}#sk-container-id-1 input.sk-toggleable__control:checked~div.sk-toggleable__content {max-height: 200px;max-width: 100%;overflow: auto;}#sk-container-id-1 input.sk-toggleable__control:checked~label.sk-toggleable__label-arrow:before {content: \"▾\";}#sk-container-id-1 div.sk-estimator input.sk-toggleable__control:checked~label.sk-toggleable__label {background-color: #d4ebff;}#sk-container-id-1 div.sk-label input.sk-toggleable__control:checked~label.sk-toggleable__label {background-color: #d4ebff;}#sk-container-id-1 input.sk-hidden--visually {border: 0;clip: rect(1px 1px 1px 1px);clip: rect(1px, 1px, 1px, 1px);height: 1px;margin: -1px;overflow: hidden;padding: 0;position: absolute;width: 1px;}#sk-container-id-1 div.sk-estimator {font-family: monospace;background-color: #f0f8ff;border: 1px dotted black;border-radius: 0.25em;box-sizing: border-box;margin-bottom: 0.5em;}#sk-container-id-1 div.sk-estimator:hover {background-color: #d4ebff;}#sk-container-id-1 div.sk-parallel-item::after {content: \"\";width: 100%;border-bottom: 1px solid gray;flex-grow: 1;}#sk-container-id-1 div.sk-label:hover label.sk-toggleable__label {background-color: #d4ebff;}#sk-container-id-1 div.sk-serial::before {content: \"\";position: absolute;border-left: 1px solid gray;box-sizing: border-box;top: 0;bottom: 0;left: 50%;z-index: 0;}#sk-container-id-1 div.sk-serial {display: flex;flex-direction: column;align-items: center;background-color: white;padding-right: 0.2em;padding-left: 0.2em;position: relative;}#sk-container-id-1 div.sk-item {position: relative;z-index: 1;}#sk-container-id-1 div.sk-parallel {display: flex;align-items: stretch;justify-content: center;background-color: white;position: relative;}#sk-container-id-1 div.sk-item::before, #sk-container-id-1 div.sk-parallel-item::before {content: \"\";position: absolute;border-left: 1px solid gray;box-sizing: border-box;top: 0;bottom: 0;left: 50%;z-index: -1;}#sk-container-id-1 div.sk-parallel-item {display: flex;flex-direction: column;z-index: 1;position: relative;background-color: white;}#sk-container-id-1 div.sk-parallel-item:first-child::after {align-self: flex-end;width: 50%;}#sk-container-id-1 div.sk-parallel-item:last-child::after {align-self: flex-start;width: 50%;}#sk-container-id-1 div.sk-parallel-item:only-child::after {width: 0;}#sk-container-id-1 div.sk-dashed-wrapped {border: 1px dashed gray;margin: 0 0.4em 0.5em 0.4em;box-sizing: border-box;padding-bottom: 0.4em;background-color: white;}#sk-container-id-1 div.sk-label label {font-family: monospace;font-weight: bold;display: inline-block;line-height: 1.2em;}#sk-container-id-1 div.sk-label-container {text-align: center;}#sk-container-id-1 div.sk-container {/* jupyter's `normalize.less` sets `[hidden] { display: none; }` but bootstrap.min.css set `[hidden] { display: none !important; }` so we also need the `!important` here to be able to override the default hidden behavior on the sphinx rendered scikit-learn.org. See: https://github.com/scikit-learn/scikit-learn/issues/21755 */display: inline-block !important;position: relative;}#sk-container-id-1 div.sk-text-repr-fallback {display: none;}</style><div id=\"sk-container-id-1\" class=\"sk-top-container\"><div class=\"sk-text-repr-fallback\"><pre>LGBMClassifier()</pre><b>In a Jupyter environment, please rerun this cell to show the HTML representation or trust the notebook. <br />On GitHub, the HTML representation is unable to render, please try loading this page with nbviewer.org.</b></div><div class=\"sk-container\" hidden><div class=\"sk-item\"><div class=\"sk-estimator sk-toggleable\"><input class=\"sk-toggleable__control sk-hidden--visually\" id=\"sk-estimator-id-1\" type=\"checkbox\" checked><label for=\"sk-estimator-id-1\" class=\"sk-toggleable__label sk-toggleable__label-arrow\">LGBMClassifier</label><div class=\"sk-toggleable__content\"><pre>LGBMClassifier()</pre></div></div></div></div></div>"
            ],
            "text/plain": [
              "LGBMClassifier()"
            ]
          },
          "execution_count": 17,
          "metadata": {},
          "output_type": "execute_result"
        }
      ],
      "source": [
        "import lightgbm as lgb\n",
        "clf = lgb.LGBMClassifier()\n",
        "clf.fit(X_train, y_train)"
      ]
    },
    {
      "cell_type": "code",
      "execution_count": 18,
      "metadata": {
        "colab": {
          "base_uri": "https://localhost:8080/"
        },
        "id": "3MV-Nnj4-KtT",
        "outputId": "55146f64-0e5e-4ace-b42e-994b4c4c35fc"
      },
      "outputs": [
        {
          "data": {
            "text/plain": [
              "{'accuracy': 92.61988561372635,\n",
              " 'precision': 0.9263233228916294,\n",
              " 'recall': 0.9261988561372635,\n",
              " 'f1': 0.9262340366157426}"
            ]
          },
          "execution_count": 18,
          "metadata": {},
          "output_type": "execute_result"
        }
      ],
      "source": [
        "y_pred=clf.predict(X_test)\n",
        "calculate_results(y_true=y_test,y_pred=y_pred)"
      ]
    },
    {
      "cell_type": "code",
      "execution_count": 19,
      "metadata": {
        "colab": {
          "base_uri": "https://localhost:8080/"
        },
        "id": "wJ2n9SJh-1Rh",
        "outputId": "5a997c11-03e4-4dea-fe04-66459b3257c5"
      },
      "outputs": [
        {
          "data": {
            "text/plain": [
              "array([1, 0, 1, 0, 1, 0, 1, 1, 1, 1, 0, 1, 0, 0, 1, 1, 1, 0, 1, 1, 1, 0,\n",
              "       0, 0, 1, 1, 0, 0, 1, 1, 1, 1, 1, 1, 1, 1, 1, 1, 0, 0, 1, 1, 0, 1,\n",
              "       0, 1, 0, 0, 0, 1, 1, 0, 0, 0, 0, 0, 0, 1, 1, 1, 1, 1, 0, 1, 1, 0,\n",
              "       1, 0, 0, 0, 0, 0, 1, 1, 1, 0, 1, 1, 0, 0, 1, 1, 1, 0, 0, 0, 0, 0,\n",
              "       1, 1, 0, 1, 1, 1, 1, 1, 1, 0, 1, 0], dtype=int64)"
            ]
          },
          "execution_count": 19,
          "metadata": {},
          "output_type": "execute_result"
        }
      ],
      "source": [
        "y_pred[:100]"
      ]
    },
    {
      "cell_type": "code",
      "execution_count": 20,
      "metadata": {
        "colab": {
          "base_uri": "https://localhost:8080/"
        },
        "id": "mKC4txPe-9P8",
        "outputId": "88884033-03ad-4318-8cdf-ca08cd5dcf59"
      },
      "outputs": [
        {
          "data": {
            "text/plain": [
              "array([1, 0, 1, 0, 1, 0, 0, 1, 1, 1, 1, 1, 0, 0, 1, 1, 1, 0, 1, 1, 1, 0,\n",
              "       0, 0, 1, 1, 0, 0, 1, 1, 1, 1, 1, 1, 1, 1, 1, 1, 0, 0, 1, 1, 0, 1,\n",
              "       0, 1, 0, 0, 0, 1, 1, 0, 0, 0, 0, 0, 0, 1, 1, 1, 1, 0, 0, 1, 1, 0,\n",
              "       1, 0, 0, 0, 0, 0, 1, 1, 1, 0, 1, 1, 0, 0, 1, 1, 1, 0, 0, 1, 0, 0,\n",
              "       1, 1, 0, 1, 1, 1, 1, 1, 1, 0, 1, 0], dtype=int64)"
            ]
          },
          "execution_count": 20,
          "metadata": {},
          "output_type": "execute_result"
        }
      ],
      "source": [
        "y_test[:100]"
      ]
    },
    {
      "cell_type": "code",
      "execution_count": 21,
      "metadata": {
        "colab": {
          "base_uri": "https://localhost:8080/"
        },
        "id": "l5NmxFVI_B2r",
        "outputId": "85e1f5f0-7833-4165-b9b4-568d2bcb98a1"
      },
      "outputs": [
        {
          "data": {
            "text/plain": [
              "array([[7623,  622],\n",
              "       [ 720, 9219]], dtype=int64)"
            ]
          },
          "execution_count": 21,
          "metadata": {},
          "output_type": "execute_result"
        }
      ],
      "source": [
        "from sklearn.metrics import confusion_matrix\n",
        "confusion_matrix(y_true=y_test, \n",
        "                 y_pred=y_pred)"
      ]
    },
    {
      "cell_type": "code",
      "execution_count": 22,
      "metadata": {},
      "outputs": [
        {
          "data": {
            "text/html": [
              "<div>\n",
              "<style scoped>\n",
              "    .dataframe tbody tr th:only-of-type {\n",
              "        vertical-align: middle;\n",
              "    }\n",
              "\n",
              "    .dataframe tbody tr th {\n",
              "        vertical-align: top;\n",
              "    }\n",
              "\n",
              "    .dataframe thead th {\n",
              "        text-align: right;\n",
              "    }\n",
              "</style>\n",
              "<table border=\"1\" class=\"dataframe\">\n",
              "  <thead>\n",
              "    <tr style=\"text-align: right;\">\n",
              "      <th></th>\n",
              "      <th>CustomerType</th>\n",
              "      <th>Age</th>\n",
              "      <th>Class</th>\n",
              "      <th>Flight_Distance</th>\n",
              "      <th>Seat_comfort</th>\n",
              "      <th>Food_drink</th>\n",
              "      <th>Inflight_entertainment</th>\n",
              "      <th>Online_support</th>\n",
              "      <th>Ease_of_Onlinebooking</th>\n",
              "      <th>Onboard_service</th>\n",
              "      <th>Leg_room_service</th>\n",
              "      <th>Online_boarding</th>\n",
              "    </tr>\n",
              "  </thead>\n",
              "  <tbody>\n",
              "    <tr>\n",
              "      <th>40827</th>\n",
              "      <td>0</td>\n",
              "      <td>23</td>\n",
              "      <td>2</td>\n",
              "      <td>2215</td>\n",
              "      <td>4</td>\n",
              "      <td>3</td>\n",
              "      <td>3</td>\n",
              "      <td>1</td>\n",
              "      <td>1</td>\n",
              "      <td>5</td>\n",
              "      <td>5</td>\n",
              "      <td>1</td>\n",
              "    </tr>\n",
              "    <tr>\n",
              "      <th>10751</th>\n",
              "      <td>1</td>\n",
              "      <td>51</td>\n",
              "      <td>1</td>\n",
              "      <td>1903</td>\n",
              "      <td>3</td>\n",
              "      <td>3</td>\n",
              "      <td>3</td>\n",
              "      <td>3</td>\n",
              "      <td>3</td>\n",
              "      <td>3</td>\n",
              "      <td>4</td>\n",
              "      <td>3</td>\n",
              "    </tr>\n",
              "    <tr>\n",
              "      <th>88932</th>\n",
              "      <td>1</td>\n",
              "      <td>16</td>\n",
              "      <td>2</td>\n",
              "      <td>3936</td>\n",
              "      <td>3</td>\n",
              "      <td>5</td>\n",
              "      <td>5</td>\n",
              "      <td>5</td>\n",
              "      <td>5</td>\n",
              "      <td>4</td>\n",
              "      <td>3</td>\n",
              "      <td>5</td>\n",
              "    </tr>\n",
              "  </tbody>\n",
              "</table>\n",
              "</div>"
            ],
            "text/plain": [
              "       CustomerType  Age  Class  Flight_Distance  Seat_comfort  Food_drink  \\\n",
              "40827             0   23      2             2215             4           3   \n",
              "10751             1   51      1             1903             3           3   \n",
              "88932             1   16      2             3936             3           5   \n",
              "\n",
              "       Inflight_entertainment  Online_support  Ease_of_Onlinebooking  \\\n",
              "40827                       3               1                      1   \n",
              "10751                       3               3                      3   \n",
              "88932                       5               5                      5   \n",
              "\n",
              "       Onboard_service  Leg_room_service  Online_boarding  \n",
              "40827                5                 5                1  \n",
              "10751                3                 4                3  \n",
              "88932                4                 3                5  "
            ]
          },
          "execution_count": 22,
          "metadata": {},
          "output_type": "execute_result"
        }
      ],
      "source": [
        "X_test.head(3)"
      ]
    },
    {
      "cell_type": "code",
      "execution_count": 23,
      "metadata": {},
      "outputs": [],
      "source": [
        "a = X_test.iloc[0].to_list()"
      ]
    },
    {
      "cell_type": "code",
      "execution_count": 24,
      "metadata": {},
      "outputs": [
        {
          "data": {
            "text/plain": [
              "(18184, 12)"
            ]
          },
          "execution_count": 24,
          "metadata": {},
          "output_type": "execute_result"
        }
      ],
      "source": [
        "X_test.shape"
      ]
    },
    {
      "cell_type": "code",
      "execution_count": 25,
      "metadata": {
        "colab": {
          "base_uri": "https://localhost:8080/"
        },
        "id": "x4cuezTf_LYA",
        "outputId": "2fd9756c-aff8-4773-f58b-705bda1fb708"
      },
      "outputs": [
        {
          "data": {
            "text/plain": [
              "array([0], dtype=int64)"
            ]
          },
          "execution_count": 25,
          "metadata": {},
          "output_type": "execute_result"
        }
      ],
      "source": [
        "import numpy as np\n",
        "a = np.array([1,29,1,250,1,1,1,1,1,1,1,1]).reshape(1, -1)\n",
        "clf.predict(a)"
      ]
    },
    {
      "cell_type": "code",
      "execution_count": 26,
      "metadata": {
        "id": "Wq4xWRwQCRXk"
      },
      "outputs": [],
      "source": [
        "import pickle\n",
        "pickle.dump(clf,open('model.pkl','wb'))"
      ]
    }
  ],
  "metadata": {
    "colab": {
      "collapsed_sections": [],
      "provenance": []
    },
    "kernelspec": {
      "display_name": "Python 3.10.7 64-bit",
      "language": "python",
      "name": "python3"
    },
    "language_info": {
      "codemirror_mode": {
        "name": "ipython",
        "version": 3
      },
      "file_extension": ".py",
      "mimetype": "text/x-python",
      "name": "python",
      "nbconvert_exporter": "python",
      "pygments_lexer": "ipython3",
      "version": "3.10.7"
    },
    "vscode": {
      "interpreter": {
        "hash": "f98203001e58baa8dd805f4f824c01d24cf230d8084a9dc5f93a566aa83d4eb4"
      }
    }
  },
  "nbformat": 4,
  "nbformat_minor": 0
}
